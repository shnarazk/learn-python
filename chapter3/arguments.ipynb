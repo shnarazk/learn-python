{
 "cells": [
  {
   "cell_type": "markdown",
   "id": "090b3db0-43ec-4018-992d-185ad8b97003",
   "metadata": {},
   "source": [
    "# 関数の引数について"
   ]
  },
  {
   "cell_type": "markdown",
   "id": "b24d2a83-83c8-4e3c-83a3-8bb43878e871",
   "metadata": {},
   "source": [
    "関数を使う（呼び出す、実行する）ためには定義が必要\n",
    "\n",
    "1. すでにあるものを使う\n",
    "    1. 一般的になので準備がいらない\n",
    "    1. `import`で使用することを宣言する\n",
    "1. 誰かが書いて公開しているものを使う：インストールしてから`import`する\n",
    "1. 自分で定義する\n",
    "\n",
    "エラーなく使うには引数を定義に合わせなければならない\n",
    "\n",
    "1. 数が合ってなければならない\n",
    "1. それぞれの型があってなければならない\n"
   ]
  },
  {
   "cell_type": "code",
   "execution_count": 4,
   "id": "bd07fdcf-b2cd-439d-bc7b-23c411867b52",
   "metadata": {},
   "outputs": [],
   "source": [
    "def test_func(x, y):\n",
    "    return x * y * 100"
   ]
  },
  {
   "cell_type": "code",
   "execution_count": 5,
   "id": "7212a977-eef7-4c93-a4c6-96f7c508f957",
   "metadata": {},
   "outputs": [
    {
     "data": {
      "text/plain": [
       "300"
      ]
     },
     "execution_count": 5,
     "metadata": {},
     "output_type": "execute_result"
    }
   ],
   "source": [
    "test_func(3,1)"
   ]
  },
  {
   "cell_type": "code",
   "execution_count": 6,
   "id": "98db3131-1a59-45aa-8ad5-985a7e5e2df5",
   "metadata": {},
   "outputs": [
    {
     "ename": "TypeError",
     "evalue": "can't multiply sequence by non-int of type 'str'",
     "output_type": "error",
     "traceback": [
      "\u001b[0;31m---------------------------------------------------------------------------\u001b[0m",
      "\u001b[0;31mTypeError\u001b[0m                                 Traceback (most recent call last)",
      "Input \u001b[0;32mIn [6]\u001b[0m, in \u001b[0;36m<cell line: 1>\u001b[0;34m()\u001b[0m\n\u001b[0;32m----> 1\u001b[0m \u001b[43mtest_func\u001b[49m\u001b[43m(\u001b[49m\u001b[38;5;124;43m\"\u001b[39;49m\u001b[38;5;124;43mこれは\u001b[39;49m\u001b[38;5;124;43m\"\u001b[39;49m\u001b[43m,\u001b[49m\u001b[43m \u001b[49m\u001b[38;5;124;43m\"\u001b[39;49m\u001b[38;5;124;43m文字列\u001b[39;49m\u001b[38;5;124;43m\"\u001b[39;49m\u001b[43m)\u001b[49m\n",
      "Input \u001b[0;32mIn [4]\u001b[0m, in \u001b[0;36mtest_func\u001b[0;34m(x, y)\u001b[0m\n\u001b[1;32m      1\u001b[0m \u001b[38;5;28;01mdef\u001b[39;00m \u001b[38;5;21mtest_func\u001b[39m(x, y):\n\u001b[0;32m----> 2\u001b[0m     \u001b[38;5;28;01mreturn\u001b[39;00m \u001b[43mx\u001b[49m\u001b[43m \u001b[49m\u001b[38;5;241;43m*\u001b[39;49m\u001b[43m \u001b[49m\u001b[43my\u001b[49m \u001b[38;5;241m*\u001b[39m \u001b[38;5;241m100\u001b[39m\n",
      "\u001b[0;31mTypeError\u001b[0m: can't multiply sequence by non-int of type 'str'"
     ]
    }
   ],
   "source": [
    "test_func(\"これは\", \"文字列\")"
   ]
  },
  {
   "cell_type": "markdown",
   "id": "7350beb6-aa7a-4314-be86-5cca810586fb",
   "metadata": {},
   "source": [
    "# ルールの拡張"
   ]
  },
  {
   "cell_type": "markdown",
   "id": "39165aaf-42b4-43af-b42f-36a4dcbb3b82",
   "metadata": {},
   "source": [
    "## 省略できるようにする\n",
    "\n",
    "実行時に指定しなくてもいいように前もって設定できるようにする\n",
    "\n",
    "```\n",
    "def 関数名(引数名=値, ...):\n",
    "    ...\n",
    "```\n"
   ]
  },
  {
   "cell_type": "code",
   "execution_count": 15,
   "id": "c64d2e49-24db-4981-8574-5a3010f8435b",
   "metadata": {},
   "outputs": [],
   "source": [
    "def test_f2(x, y=10):\n",
    "    return x * y * 100"
   ]
  },
  {
   "cell_type": "code",
   "execution_count": 13,
   "id": "e0052536-73a5-4734-9145-67301b2ebb15",
   "metadata": {},
   "outputs": [
    {
     "data": {
      "text/plain": [
       "200"
      ]
     },
     "execution_count": 13,
     "metadata": {},
     "output_type": "execute_result"
    }
   ],
   "source": [
    "test_f2(1, 2)"
   ]
  },
  {
   "cell_type": "code",
   "execution_count": 16,
   "id": "c56f5424-bc66-43ed-9709-33a3758b2c75",
   "metadata": {},
   "outputs": [
    {
     "data": {
      "text/plain": [
       "3000"
      ]
     },
     "execution_count": 16,
     "metadata": {},
     "output_type": "execute_result"
    }
   ],
   "source": [
    "test_f2(3)"
   ]
  },
  {
   "cell_type": "code",
   "execution_count": 17,
   "id": "f6422066-7376-4532-a644-b7e3d2bfbf99",
   "metadata": {},
   "outputs": [
    {
     "ename": "TypeError",
     "evalue": "test_f2() missing 1 required positional argument: 'x'",
     "output_type": "error",
     "traceback": [
      "\u001b[0;31m---------------------------------------------------------------------------\u001b[0m",
      "\u001b[0;31mTypeError\u001b[0m                                 Traceback (most recent call last)",
      "Input \u001b[0;32mIn [17]\u001b[0m, in \u001b[0;36m<cell line: 1>\u001b[0;34m()\u001b[0m\n\u001b[0;32m----> 1\u001b[0m \u001b[43mtest_f2\u001b[49m\u001b[43m(\u001b[49m\u001b[43m)\u001b[49m\n",
      "\u001b[0;31mTypeError\u001b[0m: test_f2() missing 1 required positional argument: 'x'"
     ]
    }
   ],
   "source": [
    "test_f2()"
   ]
  },
  {
   "cell_type": "code",
   "execution_count": 18,
   "id": "007f3aba-0b83-4d88-ae86-b98cffc290c1",
   "metadata": {},
   "outputs": [],
   "source": [
    "def test_f3(x, y = 10):\n",
    "    return [x * 10, y * 10]"
   ]
  },
  {
   "cell_type": "code",
   "execution_count": 19,
   "id": "d3114c26-3929-4360-9e66-c32d96c3ff67",
   "metadata": {},
   "outputs": [
    {
     "data": {
      "text/plain": [
       "[30, 90]"
      ]
     },
     "execution_count": 19,
     "metadata": {},
     "output_type": "execute_result"
    }
   ],
   "source": [
    "test_f3(3, 9)"
   ]
  },
  {
   "cell_type": "code",
   "execution_count": 20,
   "id": "b762f590-3b5a-4db5-8427-91d3ffcd1725",
   "metadata": {},
   "outputs": [
    {
     "data": {
      "text/plain": [
       "[20, 100]"
      ]
     },
     "execution_count": 20,
     "metadata": {},
     "output_type": "execute_result"
    }
   ],
   "source": [
    "test_f3(2)"
   ]
  },
  {
   "cell_type": "code",
   "execution_count": 21,
   "id": "99b88643-ea30-4afc-880f-a42f957142b3",
   "metadata": {},
   "outputs": [
    {
     "ename": "TypeError",
     "evalue": "test_f3() missing 1 required positional argument: 'x'",
     "output_type": "error",
     "traceback": [
      "\u001b[0;31m---------------------------------------------------------------------------\u001b[0m",
      "\u001b[0;31mTypeError\u001b[0m                                 Traceback (most recent call last)",
      "Input \u001b[0;32mIn [21]\u001b[0m, in \u001b[0;36m<cell line: 1>\u001b[0;34m()\u001b[0m\n\u001b[0;32m----> 1\u001b[0m \u001b[43mtest_f3\u001b[49m\u001b[43m(\u001b[49m\u001b[43m)\u001b[49m\n",
      "\u001b[0;31mTypeError\u001b[0m: test_f3() missing 1 required positional argument: 'x'"
     ]
    }
   ],
   "source": [
    "test_f3()"
   ]
  },
  {
   "cell_type": "code",
   "execution_count": 22,
   "id": "29fd2d60-7412-44ea-a287-cce4f80ed1d3",
   "metadata": {},
   "outputs": [],
   "source": [
    "def test_f31(x = 1, y = 10):\n",
    "    return [x * 10, y * 10]"
   ]
  },
  {
   "cell_type": "code",
   "execution_count": 23,
   "id": "e4530bdc-3d06-4c48-84a0-06128a40ad78",
   "metadata": {},
   "outputs": [
    {
     "data": {
      "text/plain": [
       "[50, 60]"
      ]
     },
     "execution_count": 23,
     "metadata": {},
     "output_type": "execute_result"
    }
   ],
   "source": [
    "test_f31(5, 6)"
   ]
  },
  {
   "cell_type": "code",
   "execution_count": 24,
   "id": "fc6e1148-7f74-4892-a8ba-d92dcdfe827e",
   "metadata": {},
   "outputs": [
    {
     "data": {
      "text/plain": [
       "[20, 100]"
      ]
     },
     "execution_count": 24,
     "metadata": {},
     "output_type": "execute_result"
    }
   ],
   "source": [
    "test_f31(2)"
   ]
  },
  {
   "cell_type": "code",
   "execution_count": 25,
   "id": "241bfea0-0830-4716-8290-00f4db49cf74",
   "metadata": {},
   "outputs": [
    {
     "data": {
      "text/plain": [
       "[10, 100]"
      ]
     },
     "execution_count": 25,
     "metadata": {},
     "output_type": "execute_result"
    }
   ],
   "source": [
    "test_f31()"
   ]
  },
  {
   "cell_type": "markdown",
   "id": "5b4b458a-6500-4541-b2fc-48e64473a269",
   "metadata": {},
   "source": [
    "## 順番を自由にする\n",
    "\n",
    "名前指定がなければ順番が大事。名前指定があれば順番は気にしない。"
   ]
  },
  {
   "cell_type": "code",
   "execution_count": 26,
   "id": "a2551b14-7a7f-4d2d-8a02-2cf0818774ff",
   "metadata": {},
   "outputs": [
    {
     "data": {
      "text/plain": [
       "[30, 100]"
      ]
     },
     "execution_count": 26,
     "metadata": {},
     "output_type": "execute_result"
    }
   ],
   "source": [
    "test_f31(x = 3)"
   ]
  },
  {
   "cell_type": "code",
   "execution_count": 27,
   "id": "23bc8c30-0b7d-4425-bf19-82a0e607e073",
   "metadata": {},
   "outputs": [
    {
     "data": {
      "text/plain": [
       "[30, 290]"
      ]
     },
     "execution_count": 27,
     "metadata": {},
     "output_type": "execute_result"
    }
   ],
   "source": [
    "test_f31(3, y=29)"
   ]
  },
  {
   "cell_type": "code",
   "execution_count": 28,
   "id": "ca9419d1-3575-4308-8e19-99da9ec2fb1e",
   "metadata": {},
   "outputs": [
    {
     "data": {
      "text/plain": [
       "[90, 80]"
      ]
     },
     "execution_count": 28,
     "metadata": {},
     "output_type": "execute_result"
    }
   ],
   "source": [
    "test_f31(x = 9, y = 8)"
   ]
  },
  {
   "cell_type": "code",
   "execution_count": 29,
   "id": "1cf58c7d-f8d4-40d4-96ed-315024c11fb2",
   "metadata": {},
   "outputs": [
    {
     "data": {
      "text/plain": [
       "[90, 80]"
      ]
     },
     "execution_count": 29,
     "metadata": {},
     "output_type": "execute_result"
    }
   ],
   "source": [
    "test_f31(y = 8, x = 9)"
   ]
  },
  {
   "cell_type": "markdown",
   "id": "df5d796b-5b66-4c21-b42b-75ed010acb08",
   "metadata": {},
   "source": [
    "縦と横の引数の順番、数学の点数と英語の点数、線の太さと色はどちらが先\n",
    "気にしなくてよい。\n",
    "ただし、省略できないものがあればまず先に出てこないといけない。"
   ]
  },
  {
   "cell_type": "code",
   "execution_count": 42,
   "id": "8224524c-7e89-4baf-8b4b-d60846137eb6",
   "metadata": {},
   "outputs": [
    {
     "ename": "SyntaxError",
     "evalue": "non-default argument follows default argument (2894694760.py, line 1)",
     "output_type": "error",
     "traceback": [
      "\u001b[0;36m  Input \u001b[0;32mIn [42]\u001b[0;36m\u001b[0m\n\u001b[0;31m    def test_f32(x = 1, y):\u001b[0m\n\u001b[0m                        ^\u001b[0m\n\u001b[0;31mSyntaxError\u001b[0m\u001b[0;31m:\u001b[0m non-default argument follows default argument\n"
     ]
    }
   ],
   "source": [
    "def test_f32(x = 1, y):\n",
    "    return [x * 10, y * 10]"
   ]
  },
  {
   "cell_type": "markdown",
   "id": "a653f79d-a252-425c-9aeb-79a51ba57ae8",
   "metadata": {},
   "source": [
    "## 注意：変数の名前と引数の名前は別物"
   ]
  },
  {
   "cell_type": "code",
   "execution_count": 41,
   "id": "3eb9a694-5dc6-454c-a062-89aaa1692206",
   "metadata": {},
   "outputs": [
    {
     "ename": "SyntaxError",
     "evalue": "non-default argument follows default argument (1336611643.py, line 4)",
     "output_type": "error",
     "traceback": [
      "\u001b[0;36m  Input \u001b[0;32mIn [41]\u001b[0;36m\u001b[0m\n\u001b[0;31m    def shasin_no_setsumei(jibun = \"私\", migi, hidari):\u001b[0m\n\u001b[0m                                        ^\u001b[0m\n\u001b[0;31mSyntaxError\u001b[0m\u001b[0;31m:\u001b[0m non-default argument follows default argument\n"
     ]
    }
   ],
   "source": [
    "migi = \"田中さん\"\n",
    "hidari = \"横田さん\"\n",
    "\n",
    "def shasin_no_setsumei(jibun, migi, hidari):\n",
    "    print(\"この写真の\", jibun, \"の右にいるのは\", migi, \"左にいるのは\", hidari, \"です\")"
   ]
  },
  {
   "cell_type": "code",
   "execution_count": 36,
   "id": "c924c900-b829-47e2-b62c-1b985fdaf853",
   "metadata": {},
   "outputs": [
    {
     "name": "stdout",
     "output_type": "stream",
     "text": [
      "この写真の 俺 の右にいるのは 田中さん 左にいるのは 横田さん です\n"
     ]
    }
   ],
   "source": [
    "shasin_no_setsumei(jibun=\"俺\", migi=migi, hidari=hidari)"
   ]
  },
  {
   "cell_type": "code",
   "execution_count": 37,
   "id": "daec435f-9339-4b79-babb-76cd3c136136",
   "metadata": {},
   "outputs": [
    {
     "name": "stdout",
     "output_type": "stream",
     "text": [
      "この写真の 俺 の右にいるのは 横田さん 左にいるのは 田中さん です\n"
     ]
    }
   ],
   "source": [
    "shasin_no_setsumei(jibun=\"俺\", migi=hidari, hidari=migi)"
   ]
  },
  {
   "cell_type": "code",
   "execution_count": 43,
   "id": "ec705f81-0a03-4971-bd1c-eefa5980007d",
   "metadata": {},
   "outputs": [
    {
     "name": "stdout",
     "output_type": "stream",
     "text": [
      "この写真の 私 の右にいるのは 田中さんと横田さん 左にいるのは 知らない人 です\n"
     ]
    }
   ],
   "source": [
    "shasin_no_setsumei(jibun = \"私\", migi = migi + \"と\" + hidari, hidari = \"知らない人\")"
   ]
  },
  {
   "cell_type": "code",
   "execution_count": null,
   "id": "76b1be46-743b-4dbc-94c4-ca02e6b600f4",
   "metadata": {},
   "outputs": [],
   "source": [
    "## 例: print関数\n",
    "\n",
    "print関数の「隠された」機能を見てみる。"
   ]
  }
 ],
 "metadata": {
  "kernelspec": {
   "display_name": "Python 3 (ipykernel)",
   "language": "python",
   "name": "python3"
  },
  "language_info": {
   "codemirror_mode": {
    "name": "ipython",
    "version": 3
   },
   "file_extension": ".py",
   "mimetype": "text/x-python",
   "name": "python",
   "nbconvert_exporter": "python",
   "pygments_lexer": "ipython3",
   "version": "3.10.10"
  }
 },
 "nbformat": 4,
 "nbformat_minor": 5
}
