{
 "cells": [
  {
   "cell_type": "markdown",
   "id": "4f1ca5c1",
   "metadata": {},
   "source": [
    "# Pythonでの繰り返し"
   ]
  },
  {
   "cell_type": "markdown",
   "id": "76bbf373",
   "metadata": {},
   "source": [
    "## 1. for文"
   ]
  },
  {
   "cell_type": "code",
   "execution_count": 1,
   "id": "0ce2d222",
   "metadata": {
    "collapsed": true,
    "jupyter": {
     "outputs_hidden": true
    }
   },
   "outputs": [
    {
     "name": "stdout",
     "output_type": "stream",
     "text": [
      "hello world!\n"
     ]
    }
   ],
   "source": [
    "print(\"hello world!\")"
   ]
  },
  {
   "cell_type": "markdown",
   "id": "d89cb8fc",
   "metadata": {},
   "source": [
    "```python\n",
    "for 新しい変数の名前 in range(繰り返し回数を表す数式):\n",
    "    任意の繰り返し内容\n",
    "```"
   ]
  },
  {
   "cell_type": "code",
   "execution_count": 2,
   "id": "6643c8ee",
   "metadata": {
    "tags": []
   },
   "outputs": [
    {
     "name": "stdout",
     "output_type": "stream",
     "text": [
      "x =  0\n",
      "x =  1\n",
      "x =  2\n",
      "x =  3\n"
     ]
    }
   ],
   "source": [
    "for x in range(4):\n",
    "    print(\"x = \", x)"
   ]
  },
  {
   "cell_type": "code",
   "execution_count": 3,
   "id": "e95b3bcc",
   "metadata": {
    "tags": []
   },
   "outputs": [
    {
     "name": "stdout",
     "output_type": "stream",
     "text": [
      "x =  2\n",
      "y =  0\n",
      "x =  2\n",
      "y =  1\n"
     ]
    }
   ],
   "source": [
    "x = 2\n",
    "for y in range(x):\n",
    "    print(\"x = \", x)\n",
    "    print(\"y = \", y)"
   ]
  },
  {
   "cell_type": "code",
   "execution_count": 5,
   "id": "2de4fde9",
   "metadata": {
    "tags": []
   },
   "outputs": [
    {
     "name": "stdout",
     "output_type": "stream",
     "text": [
      "x = 2 , z = 0\n",
      "zは偶数\n",
      "x = 2 , z = 1\n",
      "x = 2 , z = 2\n",
      "zは偶数\n",
      "x = 2 , z = 3\n",
      "x = 2 , z = 4\n",
      "zは偶数\n",
      "x = 2 , z = 5\n"
     ]
    }
   ],
   "source": [
    "x = 2\n",
    "for z in range(3 * x):\n",
    "    print(\"x =\", x, \", z =\", z)\n",
    "    if z % 2 == 0:\n",
    "        print(\"zは偶数\")"
   ]
  },
  {
   "cell_type": "code",
   "execution_count": 7,
   "id": "a60892d7",
   "metadata": {
    "collapsed": true,
    "jupyter": {
     "outputs_hidden": true
    }
   },
   "outputs": [
    {
     "name": "stdout",
     "output_type": "stream",
     "text": [
      "0\n",
      "1\n",
      "1\n"
     ]
    }
   ],
   "source": [
    "x = 2\n",
    "for x in range(x):\n",
    "    print(x)\n",
    "print(x)"
   ]
  },
  {
   "cell_type": "code",
   "execution_count": 8,
   "id": "ab2bc22e",
   "metadata": {
    "collapsed": true,
    "jupyter": {
     "outputs_hidden": true
    }
   },
   "outputs": [
    {
     "ename": "SyntaxError",
     "evalue": "cannot assign to literal (<ipython-input-8-63a971bb0765>, line 2)",
     "output_type": "error",
     "traceback": [
      "\u001b[0;36m  File \u001b[0;32m\"<ipython-input-8-63a971bb0765>\"\u001b[0;36m, line \u001b[0;32m2\u001b[0m\n\u001b[0;31m    for 2 in range(x):\u001b[0m\n\u001b[0m        ^\u001b[0m\n\u001b[0;31mSyntaxError\u001b[0m\u001b[0;31m:\u001b[0m cannot assign to literal\n"
     ]
    }
   ],
   "source": [
    "x = 2\n",
    "for 2 in range(x):\n",
    "    print(x)\n",
    "print(x)"
   ]
  },
  {
   "cell_type": "code",
   "execution_count": 8,
   "id": "77640f3e",
   "metadata": {
    "tags": []
   },
   "outputs": [
    {
     "name": "stdout",
     "output_type": "stream",
     "text": [
      "y = 0 , z = 3\n",
      "y = 1 , z = 4\n",
      "y = 2 , z = 5\n",
      "y = 3 , z = 6\n",
      "y = 4 , z = 7\n",
      "y = 5 , z = 8\n"
     ]
    }
   ],
   "source": [
    "# 3から8まで\n",
    "x = 6\n",
    "for y in range(x):\n",
    "    z = y + 3\n",
    "    print(\"y =\", y, \", z =\", z)\n"
   ]
  },
  {
   "cell_type": "code",
   "execution_count": 7,
   "id": "cfddffc1",
   "metadata": {},
   "outputs": [
    {
     "name": "stdout",
     "output_type": "stream",
     "text": [
      "0 , 0\n",
      "0 , 1\n",
      "0 , 2\n",
      "0 , 3\n",
      "1 , 0\n",
      "1 , 1\n",
      "1 , 2\n",
      "1 , 3\n",
      "2 , 0\n",
      "2 , 1\n",
      "2 , 2\n",
      "2 , 3\n"
     ]
    }
   ],
   "source": [
    "for x in range(3):\n",
    "    for y in range(4):\n",
    "        print(x, \",\", y)"
   ]
  },
  {
   "cell_type": "code",
   "execution_count": null,
   "id": "f0365ec3",
   "metadata": {},
   "outputs": [],
   "source": [
    "import turtle\n",
    "\n",
    "for x in range(4):\n",
    "    circle(100)\n",
    "    forward(100)"
   ]
  }
 ],
 "metadata": {
  "kernelspec": {
   "display_name": "Python 3 (ipykernel)",
   "language": "python",
   "name": "python3"
  },
  "language_info": {
   "codemirror_mode": {
    "name": "ipython",
    "version": 3
   },
   "file_extension": ".py",
   "mimetype": "text/x-python",
   "name": "python",
   "nbconvert_exporter": "python",
   "pygments_lexer": "ipython3",
   "version": "3.10.9"
  }
 },
 "nbformat": 4,
 "nbformat_minor": 5
}
