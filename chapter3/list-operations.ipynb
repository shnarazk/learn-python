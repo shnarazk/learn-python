{
 "cells": [
  {
   "cell_type": "markdown",
   "id": "fc9d5887-3f8e-45d9-9198-6ef8a3228d5d",
   "metadata": {},
   "source": [
    "# listの操作\n",
    "\n",
    "この話はp.68の復習。なぜなら文字列はリストの一種だから。"
   ]
  },
  {
   "cell_type": "code",
   "execution_count": 12,
   "id": "912a3351-5bff-4331-a649-d932bb092f4a",
   "metadata": {},
   "outputs": [
    {
     "name": "stdout",
     "output_type": "stream",
     "text": [
      "[1, 3, 10]\n"
     ]
    }
   ],
   "source": [
    "# リスト型変数lの定義\n",
    "l = [1, 3, 10]\n",
    "# 表示\n",
    "print(l)"
   ]
  },
  {
   "cell_type": "code",
   "execution_count": 13,
   "id": "31062fc8-a589-44ba-93d2-2b9b88542575",
   "metadata": {},
   "outputs": [
    {
     "data": {
      "text/plain": [
       "3"
      ]
     },
     "execution_count": 13,
     "metadata": {},
     "output_type": "execute_result"
    }
   ],
   "source": [
    "# 要素の取り出し（なくなるわけではない）\n",
    "l[1]"
   ]
  },
  {
   "cell_type": "code",
   "execution_count": 17,
   "id": "2c68dc94-7fba-46b1-9e87-8abb98a79480",
   "metadata": {},
   "outputs": [
    {
     "name": "stdout",
     "output_type": "stream",
     "text": [
      "[]\n",
      "[3]\n",
      "[3, 10]\n",
      "10\n"
     ]
    }
   ],
   "source": [
    "# 要素のまとめ取り出し＝リストから部分リストを取り出し（スライスの拡張）\n",
    "print(l[1:1])\n",
    "print(l[1:2])\n",
    "print(l[1:3])\n",
    "print(l[-1])"
   ]
  },
  {
   "cell_type": "code",
   "execution_count": 6,
   "id": "51f31b4d-65b3-409a-8afc-451ae4489664",
   "metadata": {},
   "outputs": [
    {
     "name": "stdout",
     "output_type": "stream",
     "text": [
      "1\n",
      "3\n",
      "10\n"
     ]
    }
   ],
   "source": [
    "# 全要素に対する順序実行\n",
    "for x in l:\n",
    "    print(x)"
   ]
  },
  {
   "cell_type": "code",
   "execution_count": 8,
   "id": "f5e2d4cf-47df-45eb-a98a-4a9b30462130",
   "metadata": {},
   "outputs": [
    {
     "name": "stdout",
     "output_type": "stream",
     "text": [
      "[2, 4, 11]\n"
     ]
    }
   ],
   "source": [
    "# 型付きで変数定義\n",
    "k: [int] = [2, 4, 11]\n",
    "print(k)"
   ]
  },
  {
   "cell_type": "code",
   "execution_count": 20,
   "id": "ffb32cef-9e65-4a8b-8e03-c705c1a21664",
   "metadata": {},
   "outputs": [
    {
     "name": "stdout",
     "output_type": "stream",
     "text": [
      "[1, 3, 10]\n"
     ]
    }
   ],
   "source": [
    "# 必要な部分だけ取り出し\n",
    "x = [x for x in l]\n",
    "print(x)"
   ]
  },
  {
   "cell_type": "code",
   "execution_count": 28,
   "id": "499be434-e257-41ea-b00d-b8c739e37e1f",
   "metadata": {},
   "outputs": [
    {
     "name": "stdout",
     "output_type": "stream",
     "text": [
      "[10, 30, 100]\n",
      "[2, 6, 20]\n",
      "[1, 3]\n",
      "['Alice', 'Bob', 'Chris']\n",
      "['Bob', 'Chris']\n"
     ]
    }
   ],
   "source": [
    "print([x * 10 for x in l])          # 最初の部分は計算式\n",
    "print([youso * 2 for youso in l])   # 変数の名前はなんでもよい\n",
    "print([x for x in l if x < 4])      # 対象に条件を付ける\n",
    "print([x[1] for x in [[30, \"Alice\"], [89, \"Bob\"], [65, \"Chris\"]]])\n",
    "print([x[1] for x in [[30, \"Alice\"], [89, \"Bob\"], [65, \"Chris\"]] if x[0] >= 60])"
   ]
  },
  {
   "cell_type": "markdown",
   "id": "924fdb66-bf23-4aaf-bad5-8ecfcbbbc69c",
   "metadata": {},
   "source": [
    "```python\n",
    "x = データを受け取る\n",
    "y = [... for x if 福岡のデータだけ]\n",
    "z = [... for y if 日付が今日または明日]\n",
    "print(z) # あるいは for data in z: ....\n",
    "```"
   ]
  },
  {
   "cell_type": "markdown",
   "id": "a92814c3-68bc-4500-9d5d-09a90ee94397",
   "metadata": {},
   "source": [
    "# リスト操作"
   ]
  },
  {
   "cell_type": "code",
   "execution_count": 31,
   "id": "bf15c679-c298-430b-90f8-f7043423d38e",
   "metadata": {},
   "outputs": [
    {
     "name": "stdout",
     "output_type": "stream",
     "text": [
      "[10, 3, 1]\n",
      "None\n",
      "<built-in method reverse of list object at 0x10ad2f800>\n",
      "[1, 3, 10]\n",
      "[10, 3, 1]\n"
     ]
    }
   ],
   "source": [
    "# 逆転: reverse\n",
    "k = l\n",
    "print(l)\n",
    "print(l.reverse())\n",
    "print(l.reverse)\n",
    "print(k)\n",
    "k.reverse()\n",
    "print(k)"
   ]
  },
  {
   "cell_type": "code",
   "execution_count": null,
   "id": "55dd036d-07d7-4df9-b8c8-e60b264456f5",
   "metadata": {
    "tags": []
   },
   "outputs": [],
   "source": [
    "新しい順に表示するか古い順に表示するか、小さい順に表示するか大きい順に表示するか。\n",
    "どちらもリストの要素の順番の問題。表示の時に入れ替えればよい。"
   ]
  },
  {
   "cell_type": "code",
   "execution_count": 37,
   "id": "7235ad65-d0da-4d1f-980b-7f36b21e13c4",
   "metadata": {},
   "outputs": [
    {
     "name": "stdout",
     "output_type": "stream",
     "text": [
      "[[30, 'Alice'], [90, 'Z'], [89, 'Bob'], [65, 'Chris']]\n",
      "[[30, 'Alice'], [65, 'Chris'], [89, 'Bob'], [90, 'Z']]\n",
      "[[30, 'Alice'], [89, 'Bob'], [65, 'Chris'], [90, 'Z']]\n"
     ]
    }
   ],
   "source": [
    "# 並べ替え: sort\n",
    "c = [[30, \"Alice\"], [90, \"Z\"], [89, \"Bob\"], [65, \"Chris\"]]\n",
    "print(c)\n",
    "c.sort()\n",
    "print(c)\n",
    "c.sort(key = lambda x: x[1]) # これはレベル高すぎ\n",
    "print(c)"
   ]
  },
  {
   "cell_type": "code",
   "execution_count": 40,
   "id": "6672938c-beec-4f8f-86fb-8309e0da32be",
   "metadata": {},
   "outputs": [
    {
     "name": "stdout",
     "output_type": "stream",
     "text": [
      "[[90, 'Z'], [30, 'Alice'], [89, 'Bob'], [65, 'Chris']]\n"
     ]
    }
   ],
   "source": [
    "# ランダム化（シャッフル）: shuffle\n",
    "import random\n",
    "random.shuffle(c)\n",
    "print(c)"
   ]
  },
  {
   "cell_type": "markdown",
   "id": "bc67aca2-33b2-4b97-b579-9977c78f3fa0",
   "metadata": {},
   "source": [
    "# 使用例"
   ]
  },
  {
   "cell_type": "code",
   "execution_count": 2,
   "id": "d482a435-b7fa-4c62-8c68-5b7bf961cd29",
   "metadata": {},
   "outputs": [
    {
     "name": "stdout",
     "output_type": "stream",
     "text": [
      "[['からしま', 'team-A', 1040], ['セフィロス', 'team-A', 892], ['じしょうま', 'team-B', 788], ['CAMEL', 'team-A', 717], ['Eva1', 'team-B', 276], ['ウサヲ', 'team-A', 819], ['くとりゃふか', 'team-B', 920], ['とっしー', 'team-B', 903]]\n"
     ]
    }
   ],
   "source": [
    "# 1チーム4人構成で対戦した結果が以下のリスト\n",
    "result = [\n",
    "    [\"からしま\", \"team-A\", 1040],\n",
    "    [\"セフィロス\", \"team-A\", 892],\n",
    "    [\"じしょうま\", \"team-B\", 788],\n",
    "    [\"CAMEL\", \"team-A\", 717],\n",
    "    [\"Eva1\", \"team-B\", 276],\n",
    "    [\"ウサヲ\", \"team-A\", 819],\n",
    "    [\"くとりゃふか\", \"team-B\", 920],\n",
    "    [\"とっしー\", \"team-B\", 903],\n",
    "]\n",
    "print(result)"
   ]
  },
  {
   "cell_type": "code",
   "execution_count": 3,
   "id": "0461fb67-bb96-4cb3-9d94-381bee736e9d",
   "metadata": {},
   "outputs": [],
   "source": [
    "# Aチームの合計点数、Bチームの合計点数\n",
    "score_a = 0\n",
    "score_b = 0\n",
    "for player in result:\n",
    "    pass"
   ]
  },
  {
   "cell_type": "code",
   "execution_count": 4,
   "id": "28e3d4ec-1d9d-4fd6-90b4-77ccc58a39be",
   "metadata": {
    "collapsed": true,
    "jupyter": {
     "outputs_hidden": true
    },
    "tags": []
   },
   "outputs": [
    {
     "ename": "SyntaxError",
     "evalue": "invalid syntax (1733558794.py, line 6)",
     "output_type": "error",
     "traceback": [
      "\u001b[0;36m  Input \u001b[0;32mIn [4]\u001b[0;36m\u001b[0m\n\u001b[0;31m    team_a = [player in result if pass]\u001b[0m\n\u001b[0m                                  ^\u001b[0m\n\u001b[0;31mSyntaxError\u001b[0m\u001b[0;31m:\u001b[0m invalid syntax\n"
     ]
    }
   ],
   "source": [
    "# Aチームが勝ったのでAチームのメンバーを得点順に表示\n",
    "\n",
    "# そのために1:メンバーを集める、2:並べ替える、3.順に表示\n",
    "\n",
    "# 1: メンバーを集める\n",
    "team_a = [player in result if pass]\n",
    "# 2:並べ替える\n",
    "team_a\n",
    "# 3.順に表示\n",
    "for player in team_a:\n",
    "    pass"
   ]
  }
 ],
 "metadata": {
  "kernelspec": {
   "display_name": "Python 3 (ipykernel)",
   "language": "python",
   "name": "python3"
  },
  "language_info": {
   "codemirror_mode": {
    "name": "ipython",
    "version": 3
   },
   "file_extension": ".py",
   "mimetype": "text/x-python",
   "name": "python",
   "nbconvert_exporter": "python",
   "pygments_lexer": "ipython3",
   "version": "3.10.10"
  }
 },
 "nbformat": 4,
 "nbformat_minor": 5
}
